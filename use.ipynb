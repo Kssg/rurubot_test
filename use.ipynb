{
 "cells": [
  {
   "cell_type": "code",
   "execution_count": 3,
   "metadata": {},
   "outputs": [
    {
     "name": "stdout",
     "output_type": "stream",
     "text": [
      "2022-02-03 07:51:11.231160+00:00 2022-02-03 15:51:11.231160+08:00\n"
     ]
    },
    {
     "data": {
      "text/plain": [
       "'2022-02-03 15:51'"
      ]
     },
     "execution_count": 3,
     "metadata": {},
     "output_type": "execute_result"
    }
   ],
   "source": [
    "from datetime import datetime,timezone,timedelta\n",
    "dt1 = datetime.utcnow().replace(tzinfo=timezone.utc)\n",
    "dt2 = dt1.astimezone(timezone(timedelta(hours=8)))\n",
    "print(dt1, dt2)\n",
    "dt2.strftime(\"%Y-%m-%d %H:%M\")"
   ]
  }
 ],
 "metadata": {
  "interpreter": {
   "hash": "63fd5069d213b44bf678585dea6b12cceca9941eaf7f819626cde1f2670de90d"
  },
  "kernelspec": {
   "display_name": "Python 3.9.0 64-bit",
   "language": "python",
   "name": "python3"
  },
  "language_info": {
   "codemirror_mode": {
    "name": "ipython",
    "version": 3
   },
   "file_extension": ".py",
   "mimetype": "text/x-python",
   "name": "python",
   "nbconvert_exporter": "python",
   "pygments_lexer": "ipython3",
   "version": "3.9.0"
  },
  "orig_nbformat": 4
 },
 "nbformat": 4,
 "nbformat_minor": 2
}
